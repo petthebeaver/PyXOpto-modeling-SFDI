{
 "cells": [
  {
   "cell_type": "code",
   "execution_count": 6,
   "metadata": {
    "scrolled": true
   },
   "outputs": [],
   "source": [
    "from xopto.mcml import mc\n",
    "from xopto.cl import clinfo\n",
    "\n",
    "import numpy as np\n",
    "from matplotlib import pyplot as plt\n",
    "import pickle\n",
    "from itertools import product\n",
    "from tqdm import tqdm\n",
    "from decimal import Decimal, Context\n"
   ]
  },
  {
   "cell_type": "code",
   "execution_count": 2,
   "metadata": {},
   "outputs": [],
   "source": [
    "c = Context(prec=5)\n",
    "mu_as = [c.create_decimal_from_float(x) for x in np.logspace(-2.4,0,150)]\n",
    "mu_ss = [c.create_decimal_from_float(x) for x in np.logspace(1.8,2,100)]\n",
    "mua_mus_pairs = list(product(np.array(mu_as),\n",
    "                            np.array(mu_ss)))"
   ]
  },
  {
   "cell_type": "code",
   "execution_count": 7,
   "metadata": {},
   "outputs": [],
   "source": [
    "#trace = mc.mctrace.Trace(128)\n",
    "source = source = mc.mcsource.Line(\n",
    "    position=(0.0, 0.0, 0.0),\n",
    "    direction=(0.0, 0.0, 1.0)\n",
    ")\n",
    "\n",
    "\n",
    "# creating surface detectors of backscattered or transmitted light\n",
    "detectors = mc.mcdetector.Detectors(\n",
    "    top = mc.mcdetector.Radial(\n",
    "        mc.mcdetector.RadialAxis(0.0, 20.0e-3, 100, logscale=False)\n",
    "    )\n",
    "    \n",
    ")\n",
    "\n",
    "\n",
    "# selecting the first available OpenCL GPU device\n",
    "gpu = clinfo.gpu()\n"
   ]
  },
  {
   "cell_type": "code",
   "execution_count": 11,
   "metadata": {
    "collapsed": true
   },
   "outputs": [
    {
     "name": "stderr",
     "output_type": "stream",
     "text": [
      "  0%|          | 0/15000 [00:02<?, ?it/s]\n"
     ]
    },
    {
     "ename": "KeyboardInterrupt",
     "evalue": "",
     "output_type": "error",
     "traceback": [
      "\u001b[0;31m---------------------------------------------------------------------------\u001b[0m",
      "\u001b[0;31mKeyboardInterrupt\u001b[0m                         Traceback (most recent call last)",
      "\u001b[0;32m<ipython-input-11-954c5a91a398>\u001b[0m in \u001b[0;36m<module>\u001b[0;34m\u001b[0m\n\u001b[1;32m     15\u001b[0m \u001b[0;34m\u001b[0m\u001b[0m\n\u001b[1;32m     16\u001b[0m \u001b[0;31m# running the MC simulation with 1,000,000 photon packets\u001b[0m\u001b[0;34m\u001b[0m\u001b[0;34m\u001b[0m\u001b[0;34m\u001b[0m\u001b[0m\n\u001b[0;32m---> 17\u001b[0;31m     \u001b[0mtrace_res_nail\u001b[0m\u001b[0;34m,\u001b[0m \u001b[0mfluence_res\u001b[0m\u001b[0;34m,\u001b[0m \u001b[0mdetectors_res_nail\u001b[0m \u001b[0;34m=\u001b[0m \u001b[0mmc_obj\u001b[0m\u001b[0;34m.\u001b[0m\u001b[0mrun\u001b[0m\u001b[0;34m(\u001b[0m\u001b[0;36m1e7\u001b[0m\u001b[0;34m)\u001b[0m\u001b[0;34m\u001b[0m\u001b[0;34m\u001b[0m\u001b[0m\n\u001b[0m\u001b[1;32m     18\u001b[0m     \u001b[0mres\u001b[0m\u001b[0;34m.\u001b[0m\u001b[0mappend\u001b[0m\u001b[0;34m(\u001b[0m\u001b[0;34m(\u001b[0m\u001b[0mmua\u001b[0m\u001b[0;34m,\u001b[0m\u001b[0mmus\u001b[0m\u001b[0;34m,\u001b[0m\u001b[0mdetectors_res_nail\u001b[0m\u001b[0;34m.\u001b[0m\u001b[0mtop\u001b[0m\u001b[0;34m.\u001b[0m\u001b[0mreflectance\u001b[0m\u001b[0;34m)\u001b[0m\u001b[0;34m)\u001b[0m\u001b[0;34m\u001b[0m\u001b[0;34m\u001b[0m\u001b[0m\n\u001b[1;32m     19\u001b[0m     \u001b[0;32mif\u001b[0m \u001b[0mi\u001b[0m\u001b[0;34m%\u001b[0m\u001b[0;36m1000\u001b[0m\u001b[0;34m==\u001b[0m\u001b[0;36m0\u001b[0m\u001b[0;34m:\u001b[0m\u001b[0;34m\u001b[0m\u001b[0;34m\u001b[0m\u001b[0m\n",
      "\u001b[0;32m~/.local/lib/python3.7/site-packages/pyxopto-0.1.0-py3.7.egg/xopto/mcml/mc.py\u001b[0m in \u001b[0;36mrun\u001b[0;34m(self, nphotons, out, wgsize, maxthreads, copyseeds, exportsrc, verbose)\u001b[0m\n\u001b[1;32m    926\u001b[0m             \u001b[0mself\u001b[0m\u001b[0;34m.\u001b[0m\u001b[0mcl_rw_int_buffer\u001b[0m\u001b[0;34m(\u001b[0m\u001b[0;34m)\u001b[0m\u001b[0;34m,\u001b[0m\u001b[0;34m\u001b[0m\u001b[0;34m\u001b[0m\u001b[0m\n\u001b[1;32m    927\u001b[0m             \u001b[0mself\u001b[0m\u001b[0;34m.\u001b[0m\u001b[0mcl_rw_float_buffer\u001b[0m\u001b[0;34m(\u001b[0m\u001b[0;34m)\u001b[0m\u001b[0;34m,\u001b[0m\u001b[0;34m\u001b[0m\u001b[0;34m\u001b[0m\u001b[0m\n\u001b[0;32m--> 928\u001b[0;31m             \u001b[0mself\u001b[0m\u001b[0;34m.\u001b[0m\u001b[0mcl_rw_accumulator_buffer\u001b[0m\u001b[0;34m(\u001b[0m\u001b[0;34m)\u001b[0m\u001b[0;34m,\u001b[0m\u001b[0;34m\u001b[0m\u001b[0;34m\u001b[0m\u001b[0m\n\u001b[0m\u001b[1;32m    929\u001b[0m         ).wait()\n\u001b[1;32m    930\u001b[0m \u001b[0;34m\u001b[0m\u001b[0m\n",
      "\u001b[0;31mKeyboardInterrupt\u001b[0m: "
     ]
    }
   ],
   "source": [
    "i = 0\n",
    "res = []\n",
    "\n",
    "for mua,mus in tqdm(mua_mus_pairs[:]):\n",
    "    layers = mc.mclayer.Layers(\n",
    "        [\n",
    "            mc.mclayer.Layer(n=1.0, d=0,  mua=0.0e2, mus=0.0e2, pf=mc.mcpf.Hg(0.0)),\n",
    "            #mc.mclayer.Layer(n=1.47, d=0.40e-3, mua=0.0*10, mus=0.0, pf=mc.mcpf.Hg(0.9)),\n",
    "            mc.mclayer.Layer(n=1.33, d=30.0e-3, mua=mua*1000, mus=mus*1000, pf=mc.mcpf.Hg(0.9)),\n",
    "            mc.mclayer.Layer(n=1.00, d=np.inf,  mua=0.0e2, mus=0.0e2, pf=mc.mcpf.Hg(0.0))\n",
    "        ]\n",
    "    )\n",
    "    mc_obj = mc.Mc(layers, source, detectors, cl_devices=gpu)\n",
    "    mc_obj.rmax = 10e-2\n",
    "\n",
    "\n",
    "# running the MC simulation with 10,000,000 photon packets\n",
    "    trace_res_nail, fluence_res, detectors_res_nail = mc_obj.run(1e7)\n",
    "    res.append((mua,mus,detectors_res_nail.top.reflectance))\n",
    "    if i%1000 == 0:\n",
    "        #print(i)\n",
    "        with open(f'res2_{i}.pkl', 'wb') as f:\n",
    "            pickle.dump(res, f)\n",
    "        \n",
    "    #df.loc[i]=[mua,mus,*(detectors_res_nail.top.reflectance)]\n",
    "    i += 1"
   ]
  }
 ],
 "metadata": {
  "kernelspec": {
   "display_name": "Python 3",
   "language": "python",
   "name": "python3"
  },
  "language_info": {
   "codemirror_mode": {
    "name": "ipython",
    "version": 3
   },
   "file_extension": ".py",
   "mimetype": "text/x-python",
   "name": "python",
   "nbconvert_exporter": "python",
   "pygments_lexer": "ipython3",
   "version": "3.7.3"
  },
  "varInspector": {
   "cols": {
    "lenName": 16,
    "lenType": 16,
    "lenVar": 40
   },
   "kernels_config": {
    "python": {
     "delete_cmd_postfix": "",
     "delete_cmd_prefix": "del ",
     "library": "var_list.py",
     "varRefreshCmd": "print(var_dic_list())"
    },
    "r": {
     "delete_cmd_postfix": ") ",
     "delete_cmd_prefix": "rm(",
     "library": "var_list.r",
     "varRefreshCmd": "cat(var_dic_list()) "
    }
   },
   "types_to_exclude": [
    "module",
    "function",
    "builtin_function_or_method",
    "instance",
    "_Feature"
   ],
   "window_display": false
  }
 },
 "nbformat": 4,
 "nbformat_minor": 4
}
